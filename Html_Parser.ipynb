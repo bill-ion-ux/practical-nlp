{
  "nbformat": 4,
  "nbformat_minor": 0,
  "metadata": {
    "colab": {
      "provenance": [],
      "authorship_tag": "ABX9TyPohf2d8KElJbrn9yRCBWmZ",
      "include_colab_link": true
    },
    "kernelspec": {
      "name": "python3",
      "display_name": "Python 3"
    },
    "language_info": {
      "name": "python"
    }
  },
  "cells": [
    {
      "cell_type": "markdown",
      "metadata": {
        "id": "view-in-github",
        "colab_type": "text"
      },
      "source": [
        "<a href=\"https://colab.research.google.com/github/bill-ion-ux/practical-nlp/blob/main/Html_Parser.ipynb\" target=\"_parent\"><img src=\"https://colab.research.google.com/assets/colab-badge.svg\" alt=\"Open In Colab\"/></a>"
      ]
    },
    {
      "cell_type": "code",
      "execution_count": null,
      "metadata": {
        "id": "iee0JyYWQkWV"
      },
      "outputs": [],
      "source": [
        "from bs4 import BeautifulSoup\n",
        "from urllib.request import urlopen"
      ]
    },
    {
      "cell_type": "code",
      "source": [
        "from bs4 import BeautifulSoup\n",
        "from urllib.request import urlopen, Request\n",
        "\n",
        "myurl = \"https://stackoverflow.com/questions/15995696/how-to-create-nested-loops-in-x86-assembly-language\"\n",
        "\n",
        "# Add a User-Agent header to the request\n",
        "req = Request(myurl, headers={'User-Agent': 'Mozilla/5.0'})\n",
        "urlParse = urlopen(req).read()\n",
        "\n",
        "soup = BeautifulSoup(urlParse, 'html.parser')\\\n"
      ],
      "metadata": {
        "id": "Sg515LQiQvqv"
      },
      "execution_count": null,
      "outputs": []
    },
    {
      "cell_type": "code",
      "source": [
        "question = soup.find(\"div\", {\"class\": \"postcell\"})\n",
        "print(f\"Question div found: {question is not None}\")\n",
        "if question:\n",
        "    for para in question.find_all(\"p\"):\n",
        "      print(para.get_text())\n",
        "else:\n",
        "    print(\"Could not find the question div.\")\n",
        "\n",
        "answer = soup.find(\"div\", {\"class\" : \"answercell\"})\n",
        "print(f\"Answer div found: {answer is not None}\\n\")\n",
        "print(\"answer:\")\n",
        "if answer:\n",
        "    for para in answer.find_all(\"p\"):\n",
        "      print(para.get_text())\n",
        "\n",
        "else:\n",
        "    print(\"Could not find the answer div.\")"
      ],
      "metadata": {
        "colab": {
          "base_uri": "https://localhost:8080/"
        },
        "id": "rOKHdBJCR27D",
        "outputId": "b9311fad-12fd-47b8-a27a-1f1ea2f6c200"
      },
      "execution_count": null,
      "outputs": [
        {
          "output_type": "stream",
          "name": "stdout",
          "text": [
            "Question div found: True\n",
            "Is it possible to create nested loops in x86 assembly language?\n",
            "I'd like to translate this psedocode into correct x86 assembly code (using MASM syntax), but I'm not sure how to initialize each loop counter here. Is it even possible to declare local variables in x86 assembly (as in most other programming languages)?\n",
            "Answer div found: True\n",
            "\n",
            "answer:\n",
            "Sure, it's possible. Since every computer program eventually boils down to assembly - it is naturally the most powerful language possible (excluding direct bit manipulation).\n",
            "The actual code depends on your system, compiler and applied optimizations, but basically it should be something like this (example for 2 nested loops, not 3):\n",
            "Note, you don't need local variables, you've got general-purpose registers for the usage that you need. If you insist on having variables, you can use memory addresses for that and read/write using register pointers.\n"
          ]
        }
      ]
    },
    {
      "cell_type": "code",
      "source": [],
      "metadata": {
        "id": "rNxrI6z2STNi"
      },
      "execution_count": null,
      "outputs": []
    }
  ]
}